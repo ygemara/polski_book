{
 "cells": [
  {
   "cell_type": "code",
   "execution_count": 1,
   "id": "17a5b622",
   "metadata": {
    "ExecuteTime": {
     "end_time": "2023-10-05T00:45:20.018619Z",
     "start_time": "2023-10-05T00:45:19.133345Z"
    }
   },
   "outputs": [
    {
     "data": {
      "text/plain": [
       "'C:\\\\Users\\\\ygema\\\\venv\\\\notebooks'"
      ]
     },
     "execution_count": 1,
     "metadata": {},
     "output_type": "execute_result"
    }
   ],
   "source": [
    "import pandas as pd\n",
    "import os\n",
    "import bisect\n",
    "import re\n",
    "\n",
    "os.getcwd()"
   ]
  },
  {
   "cell_type": "code",
   "execution_count": 2,
   "id": "f484946f",
   "metadata": {
    "ExecuteTime": {
     "end_time": "2023-10-05T00:45:20.274904Z",
     "start_time": "2023-10-05T00:45:20.234801Z"
    }
   },
   "outputs": [],
   "source": [
    "f = open(\"/Users/ygema/Downloads/WhatsApp Chat with אופקים חוגגים שנה חדשה.txt\", \"r\", encoding='utf-8')\n",
    "\n",
    "conversation_string = f.readlines()"
   ]
  },
  {
   "cell_type": "code",
   "execution_count": 3,
   "id": "8bb8f403",
   "metadata": {
    "ExecuteTime": {
     "end_time": "2023-10-05T00:45:21.416329Z",
     "start_time": "2023-10-05T00:45:21.408918Z"
    }
   },
   "outputs": [
    {
     "data": {
      "text/plain": [
       "['2/12/20, 2:37\\u202fPM - +972 54-527-7779: <Media omitted>\\n',\n",
       " '2/12/20, 2:37\\u202fPM - +972 54-527-7779: בבקשה\\n',\n",
       " '2/12/20, 2:37\\u202fPM - +972 54-527-7779: איפה אחי.. קניתי סים מקומי\\n',\n",
       " '2/12/20, 2:37\\u202fPM - +972 54-803-0546: חסכת לי ילד עכשיו\\n',\n",
       " '2/12/20, 2:38\\u202fPM - +972 54-527-7779: חחחחחחחח\\n']"
      ]
     },
     "execution_count": 3,
     "metadata": {},
     "output_type": "execute_result"
    }
   ],
   "source": [
    "conversation_string[:5]"
   ]
  },
  {
   "cell_type": "code",
   "execution_count": 4,
   "id": "05e8f3b8",
   "metadata": {
    "ExecuteTime": {
     "end_time": "2023-10-05T00:45:22.518428Z",
     "start_time": "2023-10-05T00:45:22.509898Z"
    }
   },
   "outputs": [],
   "source": [
    "import re\n",
    "\n",
    "def find_end_of_questions(x, start_row):\n",
    "    for idx,item in enumerate(x[start_row:]):\n",
    "        if re.search(r'\\d{1,2}/\\d{1,2}/\\d{2}', item):\n",
    "            return start_row + idx"
   ]
  },
  {
   "cell_type": "code",
   "execution_count": 5,
   "id": "3f21a3bb",
   "metadata": {
    "ExecuteTime": {
     "end_time": "2023-10-05T00:45:23.317325Z",
     "start_time": "2023-10-05T00:45:23.284307Z"
    }
   },
   "outputs": [],
   "source": [
    "question_start_row = [(idx+1) for idx,val in enumerate(conversation_string) if \"שאלות לפרשת\" in val]\n",
    "answer_start_row = [idx+1 for idx,val in enumerate(conversation_string) if \"תשובות לפרשת\" in val or \"תשובות  לפרשת\" in val]"
   ]
  },
  {
   "cell_type": "code",
   "execution_count": 6,
   "id": "a80e2c85",
   "metadata": {
    "ExecuteTime": {
     "end_time": "2023-10-05T00:45:24.049292Z",
     "start_time": "2023-10-05T00:45:23.990924Z"
    }
   },
   "outputs": [],
   "source": [
    "question_end_row = [find_end_of_questions(conversation_string,idx) for idx in question_start_row]\n",
    "answer_end_row = [find_end_of_questions(conversation_string,idx) for idx in answer_start_row]"
   ]
  },
  {
   "cell_type": "code",
   "execution_count": 7,
   "id": "39277cd3",
   "metadata": {
    "ExecuteTime": {
     "end_time": "2023-10-05T00:45:25.000901Z",
     "start_time": "2023-10-05T00:45:24.992401Z"
    }
   },
   "outputs": [],
   "source": [
    "question_bank = []\n",
    "for x in zip(question_start_row,question_end_row):\n",
    "    question_bank.append(conversation_string[(x[0]-1):x[1]])\n",
    "\n",
    "    \n",
    "answer_bank = []\n",
    "for x in zip(answer_start_row,answer_end_row):\n",
    "    answer_bank.append(conversation_string[(x[0]-1):x[1]])"
   ]
  },
  {
   "cell_type": "code",
   "execution_count": 8,
   "id": "3d7b54bb",
   "metadata": {
    "ExecuteTime": {
     "end_time": "2023-10-05T00:45:25.849277Z",
     "start_time": "2023-10-05T00:45:25.841116Z"
    }
   },
   "outputs": [],
   "source": [
    "def clean_up(x):\n",
    "    cleaned_up_list = []\n",
    "    for row in x:\n",
    "        cleaned_up_row = (row.replace(\"\\t\",\"\"))\n",
    "        if cleaned_up_row != '':\n",
    "            cleaned_up_list.append(cleaned_up_row)\n",
    "    return cleaned_up_list"
   ]
  },
  {
   "cell_type": "code",
   "execution_count": 9,
   "id": "53ba3467",
   "metadata": {
    "ExecuteTime": {
     "end_time": "2023-10-05T00:45:26.730038Z",
     "start_time": "2023-10-05T00:45:26.717623Z"
    }
   },
   "outputs": [],
   "source": [
    "def extract_questions(x):\n",
    "    questions_list = [(row.replace(\"\\n\",\"\").replace(\"\\'\",\"\")) for idx, row in enumerate(x)]\n",
    "    first_row = [re.findall(r'(?<=:)(.*?)(?=:)', questions_list[0])[-1].strip()]\n",
    "    first_row.extend(\" \")\n",
    "    first_row.extend([f'\\u202E{row}' for idx, row in enumerate(questions_list[1:]) if re.match(r'[0-9]',row)])\n",
    "    return first_row\n",
    "\n",
    "def extract_answers(x):\n",
    "    answers_list = [(row.replace(\"\\n\",\"\").replace(\"\\'\",\"\")) for idx, row in enumerate(x) if row.startswith(\"תש:\") or \"תשובות לפרשת\" in row]\n",
    "    first_row = [re.findall(r'(?<=:)(.*?)(?=:)', answers_list[0])[-1].strip()]\n",
    "    first_row.extend(\" \")\n",
    "    first_row.extend([f'\\u202E{idx+1}. {row}'.replace(\"\\u202E0.\",\"\").replace(\"תש: \",\"\") for idx, row in enumerate(answers_list[1:])])\n",
    "    answers_list_enumerated = [x.encode('utf-8').decode('utf-8') for x in first_row]\n",
    "    return answers_list_enumerated"
   ]
  },
  {
   "cell_type": "code",
   "execution_count": 10,
   "id": "d08ceed2",
   "metadata": {
    "ExecuteTime": {
     "end_time": "2023-10-05T00:45:27.619226Z",
     "start_time": "2023-10-05T00:45:27.607486Z"
    }
   },
   "outputs": [],
   "source": [
    "cleaned_up_question_bank = [clean_up(question) for question in question_bank]\n",
    "cleaned_up_answer_bank = [clean_up(answer) for answer in answer_bank]"
   ]
  },
  {
   "cell_type": "code",
   "execution_count": 11,
   "id": "34eaa121",
   "metadata": {
    "ExecuteTime": {
     "end_time": "2023-10-05T00:45:28.602947Z",
     "start_time": "2023-10-05T00:45:28.591041Z"
    }
   },
   "outputs": [
    {
     "data": {
      "text/plain": [
       "75"
      ]
     },
     "execution_count": 11,
     "metadata": {},
     "output_type": "execute_result"
    }
   ],
   "source": [
    "len(cleaned_up_answer_bank)"
   ]
  },
  {
   "cell_type": "code",
   "execution_count": 12,
   "id": "6f707d6d",
   "metadata": {
    "ExecuteTime": {
     "end_time": "2023-10-05T00:45:29.755723Z",
     "start_time": "2023-10-05T00:45:29.740775Z"
    }
   },
   "outputs": [],
   "source": [
    "cleaned_up_question_bank_extracted = [\"\\n\".join(extract_questions(question)) for question in cleaned_up_question_bank]\n",
    "cleaned_up_answer_bank_extracted = [\"\\n\".join(extract_answers(answer)) for answer in cleaned_up_answer_bank]\n",
    "\n",
    "# to capture all of 5783\n",
    "cleaned_up_question_bank_extracted = cleaned_up_question_bank_extracted[37:]\n",
    "cleaned_up_answer_bank_extracted = cleaned_up_answer_bank_extracted[30:]"
   ]
  },
  {
   "cell_type": "code",
   "execution_count": 13,
   "id": "ba46600a",
   "metadata": {
    "ExecuteTime": {
     "end_time": "2023-10-05T00:45:30.756481Z",
     "start_time": "2023-10-05T00:45:30.747945Z"
    }
   },
   "outputs": [],
   "source": [
    "###################"
   ]
  },
  {
   "cell_type": "code",
   "execution_count": 17,
   "id": "0a3c6930",
   "metadata": {
    "ExecuteTime": {
     "end_time": "2023-10-05T00:53:15.017634Z",
     "start_time": "2023-10-05T00:53:15.008543Z"
    }
   },
   "outputs": [
    {
     "data": {
      "text/plain": [
       "'שאלות לפרשת האזינו\\n \\n\\u202e1. משה וישעיה, שני הפכים. \\n\\u202e2. מהם שלושת הסיבובים שסיבב הקב\"ה? \\n\\u202e3. קללה שהיא סוג של ברכה \\n\\u202e4. קללה שמתפרשת ע\"י מצוה \\n\\u202e5. ביטוי למשפט, המופיע בפיוט יום ליבשה. \\n\\u202e6. ביטוי לרפיון, חולשה \\n\\u202e7. דמות בספר בראשית המלמדת , שאין דבר שאין בו מה ללמוד'"
      ]
     },
     "execution_count": 17,
     "metadata": {},
     "output_type": "execute_result"
    }
   ],
   "source": [
    "cleaned_up_question_bank_extracted[-1]"
   ]
  },
  {
   "cell_type": "code",
   "execution_count": 54,
   "id": "d02a5f9f",
   "metadata": {
    "ExecuteTime": {
     "end_time": "2023-10-05T15:53:46.911753Z",
     "start_time": "2023-10-05T15:53:46.902218Z"
    }
   },
   "outputs": [
    {
     "name": "stdout",
     "output_type": "stream",
     "text": [
      "‮2. רש\"י בשם מדרש רבה אומר שנח נשא את נעמה אחות תובל קין. אם הפסוקים הם כפשוטם- היא נולדה לפני ששת נולד. כלומר היתה גדולה מבעלה בלפחות 900 שנה (אלא אם כן נאמר שהפסוקים לא כפשוטם והיא נולדה ללמך אחרי מאות שנים) \n",
      "‮6. למך- שנפטר כשהיה בן 777.\n",
      "‮3. הנושא אשה ולא העמיד ילדים 10 שנים חייב לשאת אשה אחרת (יבמות סד.)\n",
      "‮1. 11. יצחק, מואב, עמון, 8 בני מלכה.\n",
      "‮6. אסתר שמלכה על 127 מדינות.\n",
      "‮1. שם בן נח, שנפטר כאשר יעקב היה בן 50, בתחילת הפרשה כאשר רבקה הלכה לדרוש את ה נאמר ברש\"י שהלכה לבית מדרשו של שם. אך בסוף הפרשה כאשר רש\"י מסביר שיעקב למד תורה י\"ד שנים הוא אומר שיעקב נטמן בבית עבר. \n",
      "‮8. כתוב במדרש שהיתה בתו של שם. שם נפטר 36 שנים בערך לפני שנולד יהודה. אלא אם כן נאמר שלא היתה בתו ממש אלא נכדתו וכד.\n",
      "‮3. רדו, כמנין 210.\n",
      "‮4.  יעקב אבינו נענש על כך שאמר לפרעה \"מעט ורעים וכו ועל כך ירדו לו 33 שנים כמנין המילים בפסוקים (מדרש רבה) שהיה אמור לחיות 180 שנה כאביו וחי 147. ישנה עוד תשובה  על פי בעל הטורים שאומר שיעקב נענש על כך שבגלל קללתו מתה רחל , ואמר שמי שגנב את התרפים לא יחיה , יחיה בגימטריה 33.\n",
      "‮1. יעקב אבינו נפטר בגיל 147, ישמעאל דודו, לוי בנו ועמרם נינו נפטרו בגיל 137.\n",
      "‮5. 432, רש\"י על \"והעומר עשירית האיפה\" \n",
      "‮1. 24 ראשי איברים (רש\"י כא,כו)\n",
      "‮10. הגמ במגילה יב: אומרת \" ראו מה עשה לי יהודי ומה שילם לי ימיני, מה עשה לי יהודי   דלא קטליה דוד לשמעי (דנולד ממנו מרדכי) וכו ומה שילם לי ימיני דלא קטליה שאול לאגג (דנולד ממנו המן)\n",
      "‮11. בגמ במגילה מסופר שאחשורוש פנה לבני שבט יששכר \"לחכמים יודעי העיתים\" בשאלה מה לעשות במלכה ושתי. והם פחדו לענות, והתחמקו ממנו. האבן של שבט יששכר היתה ספיר.\n",
      "‮3. בפרשתנו מנין הלווים מגיל 30. בפרשת בהעלותך נמנו הלווים מגיל 25. ולמדו מכך חז\"ל שתלמיד שלא ראה סימן יפה במשנתו ה שנים שוב אינו רואה.\n",
      "‮1. מנין המצוות על פי ספר החינוך - 74\n"
     ]
    }
   ],
   "source": [
    "# numbers are coming out backwards.\n",
    "# This searches for them to change manually \n",
    "# run for answers and for questions\n",
    "\n",
    "for q in cleaned_up_answer_bank_extracted:\n",
    "    for line in ((q.split(\"\\n\"))):\n",
    "        if re.search(\"\\d{2,}\",line):\n",
    "            print(line)"
   ]
  },
  {
   "cell_type": "code",
   "execution_count": null,
   "id": "b3adfa65",
   "metadata": {},
   "outputs": [],
   "source": []
  },
  {
   "cell_type": "code",
   "execution_count": null,
   "id": "87a60ce4",
   "metadata": {},
   "outputs": [],
   "source": []
  },
  {
   "cell_type": "code",
   "execution_count": null,
   "id": "d584e7ab",
   "metadata": {},
   "outputs": [],
   "source": []
  },
  {
   "cell_type": "code",
   "execution_count": 14,
   "id": "c4f14e22",
   "metadata": {
    "ExecuteTime": {
     "end_time": "2023-10-05T00:45:31.530188Z",
     "start_time": "2023-10-05T00:45:31.524366Z"
    }
   },
   "outputs": [],
   "source": [
    "####################"
   ]
  },
  {
   "cell_type": "code",
   "execution_count": 21,
   "id": "6755688a",
   "metadata": {
    "ExecuteTime": {
     "end_time": "2023-10-05T14:27:29.189102Z",
     "start_time": "2023-10-05T14:27:29.146777Z"
    }
   },
   "outputs": [
    {
     "ename": "AttributeError",
     "evalue": "'Paragraph' object has no attribute 'font'",
     "output_type": "error",
     "traceback": [
      "\u001b[1;31m---------------------------------------------------------------------------\u001b[0m",
      "\u001b[1;31mAttributeError\u001b[0m                            Traceback (most recent call last)",
      "Cell \u001b[1;32mIn[21], line 23\u001b[0m\n\u001b[0;32m     21\u001b[0m paragraph\u001b[38;5;241m.\u001b[39madd_run(\u001b[38;5;124m'\u001b[39m\u001b[38;5;130;01m\\n\u001b[39;00m\u001b[38;5;130;01m\\n\u001b[39;00m\u001b[38;5;130;01m\\n\u001b[39;00m\u001b[38;5;124m'\u001b[39m)\n\u001b[0;32m     22\u001b[0m paragraph\u001b[38;5;241m.\u001b[39madd_run(\u001b[38;5;124mf\u001b[39m\u001b[38;5;124m'\u001b[39m\u001b[38;5;124m(התשובות בעמוד \u001b[39m\u001b[38;5;132;01m{\u001b[39;00mi\u001b[38;5;241m+\u001b[39m\u001b[38;5;241m49\u001b[39m\u001b[38;5;132;01m}\u001b[39;00m\u001b[38;5;124m)\u001b[39m\u001b[38;5;124m'\u001b[39m)\n\u001b[1;32m---> 23\u001b[0m font \u001b[38;5;241m=\u001b[39m \u001b[43mparagraph\u001b[49m\u001b[38;5;241;43m.\u001b[39;49m\u001b[43mfont\u001b[49m\n\u001b[0;32m     24\u001b[0m font\u001b[38;5;241m.\u001b[39msize \u001b[38;5;241m=\u001b[39m Pt(\u001b[38;5;241m20\u001b[39m)\n\u001b[0;32m     26\u001b[0m doc\u001b[38;5;241m.\u001b[39madd_section()\n",
      "\u001b[1;31mAttributeError\u001b[0m: 'Paragraph' object has no attribute 'font'"
     ]
    }
   ],
   "source": [
    "from docx import Document\n",
    "from docx.shared import Pt\n",
    "# Sample list of lists\n",
    "\n",
    "\n",
    "# Create a new Word document\n",
    "doc = Document()\n",
    "\n",
    "# Iterate through the list of lists and add each list to a separate page\n",
    "for i in range(len(cleaned_up_question_bank_extracted)):\n",
    "    # Create a new page (section break)\n",
    "    paragraph = doc.add_paragraph()\n",
    "    \n",
    "    bold_run = paragraph.add_run((cleaned_up_question_bank_extracted[i]).split(\"\\n\")[0])\n",
    "    bold_run.bold = True\n",
    "    bold_run.underline = True\n",
    "    bold_run.font.size = Pt(20)\n",
    "    \n",
    "    rest_paragraph_run = paragraph.add_run('\\n'.join((cleaned_up_question_bank_extracted[i]).split(\"\\n\")[1:]))\n",
    "    font = rest_paragraph_run.font\n",
    "    font.size = Pt(20)\n",
    "    \n",
    "    doc.add_paragraph().add_run('\\n\\n\\n')\n",
    "    \n",
    "    answers_ref_run = doc.add_paragraph().add_run(f'(התשובות בעמוד {i+49})')\n",
    "    font = answers_ref_run.font\n",
    "    font.size = Pt(20)\n",
    "    \n",
    "    \n",
    "    doc.add_section()\n",
    "\n",
    "for i in range(len(cleaned_up_answer_bank_extracted)):\n",
    "    # Create a new page (section break)\n",
    "    paragraph = doc.add_paragraph()\n",
    "    \n",
    "    bold_run = paragraph.add_run((cleaned_up_answer_bank_extracted[i]).split(\"\\n\")[0])\n",
    "    bold_run.bold = True\n",
    "    bold_run.underline = True\n",
    "    bold_run.font.size = Pt(20)\n",
    "    \n",
    "    ans_paragraph_run = paragraph.add_run('\\n'.join((cleaned_up_answer_bank_extracted[i]).split(\"\\n\")[1:]))\n",
    "    ans_paragraph_run.font.size = Pt(20)\n",
    "    doc.add_section()\n",
    "\n",
    "# Save the Word document\n",
    "doc.save(\"output.docx\")"
   ]
  },
  {
   "cell_type": "code",
   "execution_count": null,
   "id": "1f8edd5a",
   "metadata": {},
   "outputs": [],
   "source": []
  },
  {
   "cell_type": "code",
   "execution_count": null,
   "id": "47d6a1b0",
   "metadata": {},
   "outputs": [],
   "source": []
  },
  {
   "cell_type": "code",
   "execution_count": 31,
   "id": "d5e147f0",
   "metadata": {
    "ExecuteTime": {
     "end_time": "2023-10-05T15:29:08.655990Z",
     "start_time": "2023-10-05T15:29:08.565502Z"
    }
   },
   "outputs": [],
   "source": [
    "from docx import Document\n",
    "from docx.shared import Pt\n",
    "# Sample list of lists\n",
    "\n",
    "\n",
    "# Create a new Word document\n",
    "doc = Document()\n",
    "\n",
    "# Iterate through the list of lists and add each list to a separate page\n",
    "for i in range(len(cleaned_up_question_bank_extracted)):\n",
    "    # Create a new page (section break)\n",
    "    paragraph = doc.add_paragraph()\n",
    "    \n",
    "    bold_run = paragraph.add_run((cleaned_up_question_bank_extracted[i]).split(\"\\n\")[0])\n",
    "    bold_run.bold = True\n",
    "    bold_run.underline = True\n",
    "    bold_run.font.size = Pt(20)\n",
    "    \n",
    "    rest_paragraph_run = paragraph.add_run('\\n'.join((cleaned_up_question_bank_extracted[i]).split(\"\\n\")[1:]))\n",
    "    font = rest_paragraph_run.font\n",
    "    font.size = Pt(20)\n",
    "    \n",
    "    doc.add_paragraph().add_run('\\n\\n\\n')\n",
    "    \n",
    "    answers_ref_run = doc.add_paragraph().add_run(f'(התשובות בעמוד {i+49})')\n",
    "    font = answers_ref_run.font\n",
    "    font.size = Pt(20)\n",
    "    \n",
    "    \n",
    "    doc.add_section()\n",
    "\n",
    "for i in range(len(cleaned_up_answer_bank_extracted)):\n",
    "    # Create a new page (section break)\n",
    "    paragraph = doc.add_paragraph()\n",
    "    \n",
    "    bold_run = paragraph.add_run((cleaned_up_answer_bank_extracted[i]).split(\"\\n\")[0])\n",
    "    bold_run.bold = True\n",
    "    bold_run.underline = True\n",
    "    bold_run.font.size = Pt(20)\n",
    "    \n",
    "    ans_paragraph_run = paragraph.add_run('\\n'.join((cleaned_up_answer_bank_extracted[i]).split(\"\\n\")[1:]))\n",
    "    ans_paragraph_run.font.size = Pt(20)\n",
    "    doc.add_section()\n",
    "\n",
    "# Save the Word document\n",
    "doc.save(\"output.docx\")"
   ]
  },
  {
   "cell_type": "code",
   "execution_count": 29,
   "id": "e05e8940",
   "metadata": {
    "ExecuteTime": {
     "end_time": "2023-10-05T15:10:23.873569Z",
     "start_time": "2023-10-05T15:10:23.863033Z"
    }
   },
   "outputs": [
    {
     "data": {
      "text/plain": [
       "['שאלות לפרשת בראשית\\n \\n\\u202e1.  (כיצד קשור המן לפרשה? (שני אופנים\\n\\u202e2. מי נשא (על פי המדרש) אשה זקנה ממנו בהרבה? \\n\\u202e3. מי עשוי כאוצר של חיטים? \\n\\u202e4. מי ענתה \"מה מועיל נר בצהריים\" ? \\n\\u202e5. איזו אות נאמרה אחרונה מכל האותיות ? מדוע? \\n\\u202e6. מה משותף לאדם, ירד ומתושלח? \\n\\u202e7. למי יש רק ספרה אחת בשנות חייו?\\n\\u202e8. היכן ספרד מוזכרת בפרשה? \\n\\u202e8. את שניהם אמר אדם הראשון. במהלך החיים נאמרים על פי הסדר, אך לא כתובים כסדר.',\n",
       " 'שאלות לפרשת נח\\n \\n\\u202e1. פיוט מזמירות שבת\\n\\u202e2. אלו שמונה אותיות מיותרות לכאורה יש בפרשה, ומדוע? \\n\\u202e3. עיר ומלכות, שכינויה בקינות רמוז בפרשה.\\n\\u202e4. שבעה הם, והשביעי מתוכם התחדש בפרשתנו. \\n\\u202e5. מי בפרשה עשה קל וחומר? \\n\\u202e6. איזה כלל בהלכות נימוסים ודרך ארץ נלמד מהפרשה ? \\n\\u202e7. שנים בעלי שם אחד נשלחו, האחד בפרשתנו, השני, נשלח לעיר מפרשתנו.\\n\\u202e8. מתי רבים נכתבו בלשון יחיד, ומדוע? ',\n",
       " 'שאלות לפרשת לך לך\\n \\n\\u202e1. מאורע מהפרשה, מוזכר בפיוט הנאמר פעם בשנה\\n\\u202e2. מי פחד מהפליט? \\n\\u202e3. איזו הלכה למדים מנישואי אברהם והגר? \\n\\u202e4. על מי נאמר שם התואר לפני שם העצם? \\n\\u202e5. צדיק א זיכה את צאצאיו במצוה.  צדיק שיצא מזרעו, זיכה את צאצאיו בפרט באותה מצוה. \\n\\u202e6. נס שנעשה לרשע \\n\\u202e7. מה רבותינו למדו בענין הזכרת אנשי סדום? \\n\\u202e8. זה שנוספה לו  מהאשה, הוסיף על מה שנצטווה בעלה.',\n",
       " 'שאלות לפרשת וירא\\n \\n\\u202e1. כמה נכדים מוזכרים שנולדו להרן בפרשה? \\n\\u202e2. מה היה שמה של זו שלקתה, מידה כנגד מידה? \\n\\u202e3. מהם המילים, שבזכותם זכה אברהם להיות אחד מג ענווים? \\n\\u202e4. האחרון מארבעה, שלא יזכו לטובה. \\n\\u202e5. הכינוי שלו זכו הנערים, בעקבות ציווי אברהם \\n\\u202e6. ספר שנקרא על שם מאורע מרכזי בפרשה. \\n\\u202e7. מה השכר שקבלה הבכירה, ומה קבלה הצעירה. \\n\\u202e8. לאשתו היה דרך.  אבל לסבתא לא היה דרך.  \\n\\u202e9. מה קרה בשנת 1996 (מלבד הניצחון של ביבי🤣 ) ומהיכן יודעים זאת? ',\n",
       " 'שאלות לפרשת חיי שרה\\n \\n\\u202e1. מי בפרשה לא למד מסכת אבות, ומי דווקא כן? \\n\\u202e2. איזה פיוט לשבת נאמר לראשונה בפרשתנו? \\n\\u202e3. איזה כלל נלמד מהפרשה הכפולה בפרשתנו? \\n\\u202e4. שתי בנות, כל אחת שלוש אותיות, האחת בשמה והאחת ברמיזה \\n\\u202e5. שתי דמויות עם מכנה משותף בהפטרת חיי שרה והפטרת וירא \\n\\u202e6. מי זכתה לשכר כמספר שנות חיי שרה? \\n\\u202e7. למה זוכה מי שמתעטפת בצעיף? \\n\\u202e8. שני דברים שארכו 38 שנים. ']"
      ]
     },
     "execution_count": 29,
     "metadata": {},
     "output_type": "execute_result"
    }
   ],
   "source": [
    "cleaned_up_question_bank_extracted[:5]"
   ]
  },
  {
   "cell_type": "code",
   "execution_count": null,
   "id": "705ba28e",
   "metadata": {},
   "outputs": [],
   "source": []
  },
  {
   "cell_type": "code",
   "execution_count": null,
   "id": "43f197ec",
   "metadata": {},
   "outputs": [],
   "source": []
  },
  {
   "cell_type": "code",
   "execution_count": 698,
   "id": "316dcd6b",
   "metadata": {
    "ExecuteTime": {
     "end_time": "2023-09-29T14:56:59.235545Z",
     "start_time": "2023-09-29T14:56:59.191994Z"
    }
   },
   "outputs": [
    {
     "ename": "AttributeError",
     "evalue": "'NoneType' object has no attribute 'pt'",
     "output_type": "error",
     "traceback": [
      "\u001b[1;31m---------------------------------------------------------------------------\u001b[0m",
      "\u001b[1;31mAttributeError\u001b[0m                            Traceback (most recent call last)",
      "Cell \u001b[1;32mIn[698], line 20\u001b[0m\n\u001b[0;32m     17\u001b[0m bottom_content_length \u001b[38;5;241m=\u001b[39m \u001b[38;5;28mlen\u001b[39m(bottom_content)\n\u001b[0;32m     19\u001b[0m \u001b[38;5;66;03m# Get the font size of the paragraph (assuming uniform font size)\u001b[39;00m\n\u001b[1;32m---> 20\u001b[0m font_size_pts \u001b[38;5;241m=\u001b[39m \u001b[43mtop_paragraph\u001b[49m\u001b[38;5;241;43m.\u001b[39;49m\u001b[43mstyle\u001b[49m\u001b[38;5;241;43m.\u001b[39;49m\u001b[43mfont\u001b[49m\u001b[38;5;241;43m.\u001b[39;49m\u001b[43msize\u001b[49m\u001b[38;5;241;43m.\u001b[39;49m\u001b[43mpt\u001b[49m\n\u001b[0;32m     22\u001b[0m \u001b[38;5;66;03m# Calculate the spacing required to align the bottom content with the bottom of the page\u001b[39;00m\n\u001b[0;32m     23\u001b[0m spacing_for_bottom \u001b[38;5;241m=\u001b[39m (top_content_length \u001b[38;5;241m-\u001b[39m bottom_content_length) \u001b[38;5;241m*\u001b[39m (font_size_pts \u001b[38;5;241m/\u001b[39m \u001b[38;5;241m2\u001b[39m)\n",
      "\u001b[1;31mAttributeError\u001b[0m: 'NoneType' object has no attribute 'pt'"
     ]
    }
   ],
   "source": [
    "from docx import Document\n",
    "from docx.shared import Inches, Pt\n",
    "\n",
    "# Create a new Word document\n",
    "doc = Document()\n",
    "\n",
    "# Content for the top part of the page\n",
    "top_content = \"This is content near the top of the page.\"\n",
    "top_paragraph = doc.add_paragraph(top_content)\n",
    "\n",
    "# Content for the bottom part of the page\n",
    "bottom_content = \"This is content near the bottom of the page.\"\n",
    "bottom_paragraph = doc.add_paragraph(bottom_content)\n",
    "\n",
    "# Calculate the length of the top and bottom content\n",
    "top_content_length = len(top_content)\n",
    "bottom_content_length = len(bottom_content)\n",
    "\n",
    "# Get the font size of the paragraph (assuming uniform font size)\n",
    "font_size_pts = top_paragraph.style.font.size.pt\n",
    "\n",
    "# Calculate the spacing required to align the bottom content with the bottom of the page\n",
    "spacing_for_bottom = (top_content_length - bottom_content_length) * (font_size_pts / 2)\n",
    "\n",
    "# Set spacing before the bottom paragraph to move it up the page\n",
    "bottom_paragraph_format = bottom_paragraph.paragraph_format\n",
    "bottom_paragraph_format.space_before = Pt(spacing_for_bottom)\n",
    "\n",
    "# Save the Word document\n",
    "doc.save(\"output.docx\")"
   ]
  },
  {
   "cell_type": "code",
   "execution_count": 699,
   "id": "dafb9b49",
   "metadata": {
    "ExecuteTime": {
     "end_time": "2023-09-29T15:04:30.985257Z",
     "start_time": "2023-09-29T15:04:30.952089Z"
    }
   },
   "outputs": [],
   "source": [
    "from docx import Document\n",
    "\n",
    "# Create a new Word document\n",
    "doc = Document()\n",
    "\n",
    "# Create a paragraph\n",
    "paragraph = doc.add_paragraph()\n",
    "\n",
    "# Add a run for the regular text\n",
    "paragraph.add_run(\"This is regular text. \")\n",
    "\n",
    "# Add a run for the bold text\n",
    "bold_run = paragraph.add_run(\"This is bold text.\")\n",
    "bold_run.bold = True\n",
    "\n",
    "# Save the Word document\n",
    "doc.save(\"output.docx\")"
   ]
  },
  {
   "cell_type": "code",
   "execution_count": 701,
   "id": "6e5bc795",
   "metadata": {
    "ExecuteTime": {
     "end_time": "2023-09-29T15:07:13.418489Z",
     "start_time": "2023-09-29T15:07:13.413231Z"
    }
   },
   "outputs": [
    {
     "data": {
      "text/plain": [
       "'שאלות לפרשת בראשית\\n \\n\\u202e1. כיצד קשור המן\\n\\u202e2. מי נשא (על פי המדרש) אשה זקנה ממנו בהרבה? \\n\\u202e3. מי עשוי כאוצר של חיטים? \\n\\u202e4. מי ענתה \"מה מועיל נר בצהריים\" ? \\n\\u202e5. איזו אות נאמרה אחרונה מכל האותיות ? מדוע? \\n\\u202e6. מה משותף לאדם, ירד ומתושלח? \\n\\u202e7. למי יש רק ספרה אחת בשנות חייו?\\n\\u202e8. היכן ספרד מוזכרת בפרשה? \\n\\u202e8. את שניהם אמר אדם הראשון. במהלך החיים נאמרים על פי הסדר, אך לא כתובים כסדר.'"
      ]
     },
     "execution_count": 701,
     "metadata": {},
     "output_type": "execute_result"
    }
   ],
   "source": [
    "cleaned_up_question_bank_extracted[0]"
   ]
  },
  {
   "cell_type": "code",
   "execution_count": 704,
   "id": "c22ccca3",
   "metadata": {
    "ExecuteTime": {
     "end_time": "2023-09-29T15:10:12.850145Z",
     "start_time": "2023-09-29T15:10:12.844413Z"
    }
   },
   "outputs": [
    {
     "data": {
      "text/plain": [
       "'שאלות לפרשת בראשית'"
      ]
     },
     "execution_count": 704,
     "metadata": {},
     "output_type": "execute_result"
    }
   ],
   "source": [
    "(cleaned_up_question_bank_extracted[0]).split(\"\\n\")[0]"
   ]
  },
  {
   "cell_type": "code",
   "execution_count": 715,
   "id": "a265d216",
   "metadata": {
    "ExecuteTime": {
     "end_time": "2023-09-29T15:12:58.235477Z",
     "start_time": "2023-09-29T15:12:58.228284Z"
    }
   },
   "outputs": [
    {
     "data": {
      "text/plain": [
       "' \\u202e1. כיצד קשור המן\\u202e2. מי נשא (על פי המדרש) אשה זקנה ממנו בהרבה? \\u202e3. מי עשוי כאוצר של חיטים? \\u202e4. מי ענתה \"מה מועיל נר בצהריים\" ? \\u202e5. איזו אות נאמרה אחרונה מכל האותיות ? מדוע? \\u202e6. מה משותף לאדם, ירד ומתושלח? \\u202e7. למי יש רק ספרה אחת בשנות חייו?\\u202e8. היכן ספרד מוזכרת בפרשה? \\u202e8. את שניהם אמר אדם הראשון. במהלך החיים נאמרים על פי הסדר, אך לא כתובים כסדר.'"
      ]
     },
     "execution_count": 715,
     "metadata": {},
     "output_type": "execute_result"
    }
   ],
   "source": [
    "''.join((cleaned_up_question_bank_extracted[0]).split(\"\\n\")[1:])"
   ]
  },
  {
   "cell_type": "code",
   "execution_count": null,
   "id": "7dbd8bd7",
   "metadata": {},
   "outputs": [],
   "source": [
    "\n",
    "\n",
    "\n"
   ]
  },
  {
   "cell_type": "code",
   "execution_count": null,
   "id": "4b4ba93e",
   "metadata": {},
   "outputs": [],
   "source": []
  },
  {
   "cell_type": "code",
   "execution_count": 648,
   "id": "fea42780",
   "metadata": {
    "ExecuteTime": {
     "end_time": "2023-09-29T04:10:07.616797Z",
     "start_time": "2023-09-29T04:10:07.613322Z"
    }
   },
   "outputs": [],
   "source": [
    "qs = [i.split(\"\\n\")[0] for i in cleaned_up_question_bank_extracted]\n",
    "ans = [i.split(\"\\n\")[0] for i in cleaned_up_answer_bank_extracted]"
   ]
  },
  {
   "cell_type": "code",
   "execution_count": 670,
   "id": "9fc1e8df",
   "metadata": {
    "ExecuteTime": {
     "end_time": "2023-09-29T04:14:13.081841Z",
     "start_time": "2023-09-29T04:14:13.074089Z"
    }
   },
   "outputs": [
    {
     "data": {
      "text/plain": [
       "['שאלות לפרשת בראשית',\n",
       " 'שאלות לפרשת נח',\n",
       " 'שאלות לפרשת לך לך',\n",
       " 'שאלות לפרשת וירא',\n",
       " 'שאלות לפרשת חיי שרה',\n",
       " 'שאלות לפרשת תולדות',\n",
       " 'שאלות לפרשת ויצא',\n",
       " 'שאלות לפרשת וישלח',\n",
       " 'שאלות לפרשת וישב',\n",
       " 'שאלות לפרשת מקץ',\n",
       " 'שאלות לפרשת ויגש',\n",
       " 'שאלות לפרשת ויחי',\n",
       " 'שאלות לפרשת שמות',\n",
       " 'שאלות לפרשת וארא',\n",
       " 'שאלות לפרשת בא',\n",
       " 'שאלות לפרשת בשלח',\n",
       " 'שאלות לפרשת יתרו',\n",
       " 'שאלות לפרשת משפטים',\n",
       " 'שאלות לפרשת תרומה',\n",
       " 'שאלות לפרשת תצוה-זכור-פורים',\n",
       " 'שאלות לפרשת כי תשא-פרה',\n",
       " 'שאלות לפרשת ויקהל-פקודי-החודש',\n",
       " 'שאלות לפרשת ויקרא',\n",
       " 'שאלות לפרשת צו-הגדול',\n",
       " 'שאלות לפרשת שמיני',\n",
       " 'שאלות לפרשת תזריע מצורע',\n",
       " 'שאלות לפרשת אחרי מות קדושים',\n",
       " 'שאלות לפרשת אמור',\n",
       " 'שאלות לפרשת בהר-בחוקותי',\n",
       " 'שאלות לפרשת במדבר',\n",
       " 'שאלות לפרשת בהעלותך',\n",
       " 'שאלות לפרשת שלח',\n",
       " 'שאלות לפרשת קרח',\n",
       " 'שאלות לפרשת חוקת',\n",
       " 'שאלות לפרשת בלק',\n",
       " 'שאלות לפרשת פנחס',\n",
       " 'שאלות לפרשת מטות מסעי',\n",
       " 'שאלות לפרשת דברים',\n",
       " 'שאלות לפרשת ואתחנן - נחמו',\n",
       " 'שאלות לפרשת עקב',\n",
       " 'שאלות לפרשת ראה',\n",
       " 'שאלות לפרשת שופטים',\n",
       " 'שאלות לפרשת כי תצא',\n",
       " 'שאלות לפרשת כי תבוא',\n",
       " 'שאלות לפרשת נצבים וילך',\n",
       " 'שאלות לפרשת האזינו']"
      ]
     },
     "execution_count": 670,
     "metadata": {},
     "output_type": "execute_result"
    }
   ],
   "source": [
    "qs[37:]"
   ]
  },
  {
   "cell_type": "code",
   "execution_count": 664,
   "id": "921924c5",
   "metadata": {
    "ExecuteTime": {
     "end_time": "2023-09-29T04:13:07.648451Z",
     "start_time": "2023-09-29T04:13:07.641435Z"
    }
   },
   "outputs": [
    {
     "data": {
      "text/plain": [
       "['תשובות לפרשת בראשית',\n",
       " 'תשובות לפרשת נח',\n",
       " 'תשובות לפרשת לך לך',\n",
       " 'תשובות לפרשת וירא',\n",
       " 'תשובות לפרשת חיי שרה',\n",
       " 'תשובות לפרשת תולדות',\n",
       " 'תשובות לפרשת ויצא',\n",
       " 'תשובות לפרשת וישלח',\n",
       " 'תשובות לפרשת וישב',\n",
       " 'תשובות לפרשת מקץ',\n",
       " 'תשובות לפרשת ויגש',\n",
       " 'תשובות לפרשת ויחי',\n",
       " 'תשובות לפרשת שמות',\n",
       " 'תשובות לפרשת וארא',\n",
       " 'תשובות לפרשת בא',\n",
       " 'תשובות לפרשת בשלח',\n",
       " 'תשובות לפרשת יתרו',\n",
       " 'תשובות לפרשת משפטים',\n",
       " 'תשובות לפרשת תרומה',\n",
       " 'תשובות לפרשת תצוה-זכור-פורים',\n",
       " 'תשובות לפרשת כי תשא-פרה',\n",
       " 'תשובות לפרשת ויקהל-פקודי-החודש',\n",
       " 'תשובות לפרשת ויקרא',\n",
       " 'תשובות לפרשת צו-הגדול',\n",
       " 'תשובות לפרשת שמיני',\n",
       " 'תשובות לפרשת תזריע מצורע',\n",
       " 'תשובות לפרשת אחרי מות קדושים',\n",
       " 'תשובות לפרשת אמור',\n",
       " 'תשובות לפרשת בהר-בחוקותי',\n",
       " 'תשובות לפרשת במדבר',\n",
       " 'תשובות לפרשת בהעלותך',\n",
       " 'תשובות לפרשת שלח',\n",
       " 'תשובות לפרשת קרח',\n",
       " 'תשובות לפרשת חוקת',\n",
       " 'תשובות לפרשת בלק',\n",
       " 'תשובות לפרשת פנחס',\n",
       " 'תשובות לפרשת מטות מסעי',\n",
       " 'תשובות לפרשת דברים',\n",
       " 'תשובות לפרשת ואתחנן - נחמו',\n",
       " 'תשובות לפרשת עקב',\n",
       " 'תשובות לפרשת ראה',\n",
       " 'תשובות לפרשת שופטים',\n",
       " 'תשובות לפרשת כי תצא',\n",
       " 'תשובות לפרשת כי תבוא',\n",
       " 'תשובות לפרשת נצבים וילך']"
      ]
     },
     "execution_count": 664,
     "metadata": {},
     "output_type": "execute_result"
    }
   ],
   "source": [
    "ans[30:]"
   ]
  },
  {
   "cell_type": "code",
   "execution_count": 659,
   "id": "ef7f6e35",
   "metadata": {
    "ExecuteTime": {
     "end_time": "2023-09-29T04:11:37.887417Z",
     "start_time": "2023-09-29T04:11:37.881154Z"
    }
   },
   "outputs": [
    {
     "data": {
      "text/plain": [
       "83"
      ]
     },
     "execution_count": 659,
     "metadata": {},
     "output_type": "execute_result"
    }
   ],
   "source": [
    "len(qs)"
   ]
  },
  {
   "cell_type": "code",
   "execution_count": 660,
   "id": "4dfd1fe4",
   "metadata": {
    "ExecuteTime": {
     "end_time": "2023-09-29T04:11:41.017132Z",
     "start_time": "2023-09-29T04:11:41.009733Z"
    }
   },
   "outputs": [
    {
     "data": {
      "text/plain": [
       "75"
      ]
     },
     "execution_count": 660,
     "metadata": {},
     "output_type": "execute_result"
    }
   ],
   "source": [
    "len(ans)"
   ]
  },
  {
   "cell_type": "code",
   "execution_count": null,
   "id": "f2d660a9",
   "metadata": {},
   "outputs": [],
   "source": []
  },
  {
   "cell_type": "code",
   "execution_count": null,
   "id": "a2086894",
   "metadata": {},
   "outputs": [],
   "source": []
  },
  {
   "cell_type": "code",
   "execution_count": 656,
   "id": "36d0ade1",
   "metadata": {
    "ExecuteTime": {
     "end_time": "2023-09-29T04:10:54.319123Z",
     "start_time": "2023-09-29T04:10:54.314898Z"
    }
   },
   "outputs": [],
   "source": [
    "import re\n",
    "\n",
    "def find_end_of_just_questions(x, start_row):\n",
    "    for idx,item in enumerate(x[start_row:]):\n",
    "        if re.search(r'\\d{1,2}/\\d{1,2}/\\d{2}', item):\n",
    "            return start_row + idx"
   ]
  },
  {
   "cell_type": "code",
   "execution_count": 651,
   "id": "10123bd4",
   "metadata": {
    "ExecuteTime": {
     "end_time": "2023-09-29T04:10:07.635745Z",
     "start_time": "2023-09-29T04:10:07.631140Z"
    }
   },
   "outputs": [
    {
     "data": {
      "text/plain": [
       "29023"
      ]
     },
     "execution_count": 651,
     "metadata": {},
     "output_type": "execute_result"
    }
   ],
   "source": [
    "find_end_of_just_questions(conversation_string,question_start_row[0])"
   ]
  },
  {
   "cell_type": "code",
   "execution_count": null,
   "id": "18a3bfcd",
   "metadata": {
    "ExecuteTime": {
     "end_time": "2023-09-28T21:34:25.091148Z",
     "start_time": "2023-09-28T21:34:25.083234Z"
    }
   },
   "outputs": [],
   "source": []
  },
  {
   "cell_type": "code",
   "execution_count": 654,
   "id": "b2f851dd",
   "metadata": {
    "ExecuteTime": {
     "end_time": "2023-09-29T04:10:07.655308Z",
     "start_time": "2023-09-29T04:10:07.650796Z"
    }
   },
   "outputs": [
    {
     "ename": "SyntaxError",
     "evalue": "invalid syntax (198091019.py, line 1)",
     "output_type": "error",
     "traceback": [
      "\u001b[1;36m  Cell \u001b[1;32mIn[654], line 1\u001b[1;36m\u001b[0m\n\u001b[1;33m    question_start_row[]\u001b[0m\n\u001b[1;37m                       ^\u001b[0m\n\u001b[1;31mSyntaxError\u001b[0m\u001b[1;31m:\u001b[0m invalid syntax\n"
     ]
    }
   ],
   "source": [
    "question_start_row[]"
   ]
  },
  {
   "cell_type": "code",
   "execution_count": null,
   "id": "4ef0540c",
   "metadata": {
    "ExecuteTime": {
     "end_time": "2023-09-29T04:10:07.661718Z",
     "start_time": "2023-09-29T04:10:07.661718Z"
    }
   },
   "outputs": [],
   "source": [
    "answer_start_row[0]"
   ]
  },
  {
   "cell_type": "code",
   "execution_count": null,
   "id": "995dfeb0",
   "metadata": {
    "ExecuteTime": {
     "end_time": "2023-09-29T04:10:07.663723Z",
     "start_time": "2023-09-29T04:10:07.663723Z"
    }
   },
   "outputs": [],
   "source": [
    "qs[2]"
   ]
  },
  {
   "cell_type": "code",
   "execution_count": null,
   "id": "5cb06e45",
   "metadata": {
    "ExecuteTime": {
     "end_time": "2023-09-29T04:10:07.665347Z",
     "start_time": "2023-09-29T04:10:07.665347Z"
    }
   },
   "outputs": [],
   "source": [
    "ans[0]"
   ]
  },
  {
   "cell_type": "code",
   "execution_count": null,
   "id": "c74a30f0",
   "metadata": {
    "ExecuteTime": {
     "end_time": "2023-09-29T04:10:07.666456Z",
     "start_time": "2023-09-29T04:10:07.666456Z"
    }
   },
   "outputs": [],
   "source": [
    "qs[5]"
   ]
  },
  {
   "cell_type": "code",
   "execution_count": null,
   "id": "f09788ed",
   "metadata": {
    "ExecuteTime": {
     "end_time": "2023-09-29T04:10:07.668465Z",
     "start_time": "2023-09-29T04:10:07.668465Z"
    }
   },
   "outputs": [],
   "source": [
    "dict(enumerate(ans))"
   ]
  },
  {
   "cell_type": "code",
   "execution_count": null,
   "id": "24466645",
   "metadata": {
    "ExecuteTime": {
     "end_time": "2023-09-29T04:10:07.668465Z",
     "start_time": "2023-09-29T04:10:07.668465Z"
    }
   },
   "outputs": [],
   "source": [
    "dict(enumerate(qs))"
   ]
  },
  {
   "cell_type": "code",
   "execution_count": null,
   "id": "6168444e",
   "metadata": {
    "ExecuteTime": {
     "end_time": "2023-09-29T04:10:07.670819Z",
     "start_time": "2023-09-29T04:10:07.670819Z"
    }
   },
   "outputs": [],
   "source": [
    "len(cleaned_up_question_bank_extracted[15].split(\"\\n\"))"
   ]
  },
  {
   "cell_type": "code",
   "execution_count": 47,
   "id": "b491b100",
   "metadata": {
    "ExecuteTime": {
     "end_time": "2023-10-05T15:40:19.736039Z",
     "start_time": "2023-10-05T15:40:19.731038Z"
    }
   },
   "outputs": [
    {
     "data": {
      "text/plain": [
       "<re.Match object; span=(0, 3), match='123'>"
      ]
     },
     "execution_count": 47,
     "metadata": {},
     "output_type": "execute_result"
    }
   ],
   "source": [
    "re.search(r'\\d{2,}','123')"
   ]
  },
  {
   "cell_type": "code",
   "execution_count": null,
   "id": "f7fe6b6f",
   "metadata": {},
   "outputs": [],
   "source": [
    "#########3 notes:\n",
    "\n",
    "# had some cases where תשובות  לפרשות with 2 spaces.\n",
    "# other cases had שאלות instead of תשובות"
   ]
  },
  {
   "cell_type": "code",
   "execution_count": null,
   "id": "81b80503",
   "metadata": {},
   "outputs": [],
   "source": []
  },
  {
   "cell_type": "code",
   "execution_count": null,
   "id": "08b2524a",
   "metadata": {},
   "outputs": [],
   "source": [
    "from docx import Document\n",
    "\n",
    "# Sample list of lists\n",
    "\n",
    "\n",
    "# Create a new Word document\n",
    "doc = Document()\n",
    "\n",
    "# Iterate through the list of lists and add each list to a separate page\n",
    "for i in range(len(cleaned_up_question_bank_extracted[:-1])):\n",
    "    # Create a new page (section break)\n",
    "    \n",
    "    doc.add_paragraph(cleaned_up_question_bank_extracted[i])\n",
    "    doc.add_paragraph(cleaned_up_answer_bank_extracted[i])\n",
    "    \n",
    "    doc.add_section()\n",
    "\n",
    "# Save the Word document\n",
    "doc.save(\"output.docx\")"
   ]
  }
 ],
 "metadata": {
  "kernelspec": {
   "display_name": "Python 3 (ipykernel)",
   "language": "python",
   "name": "python3"
  },
  "language_info": {
   "codemirror_mode": {
    "name": "ipython",
    "version": 3
   },
   "file_extension": ".py",
   "mimetype": "text/x-python",
   "name": "python",
   "nbconvert_exporter": "python",
   "pygments_lexer": "ipython3",
   "version": "3.11.1"
  },
  "toc": {
   "base_numbering": 1,
   "nav_menu": {},
   "number_sections": true,
   "sideBar": true,
   "skip_h1_title": false,
   "title_cell": "Table of Contents",
   "title_sidebar": "Contents",
   "toc_cell": false,
   "toc_position": {},
   "toc_section_display": true,
   "toc_window_display": false
  },
  "varInspector": {
   "cols": {
    "lenName": 16,
    "lenType": 16,
    "lenVar": 40
   },
   "kernels_config": {
    "python": {
     "delete_cmd_postfix": "",
     "delete_cmd_prefix": "del ",
     "library": "var_list.py",
     "varRefreshCmd": "print(var_dic_list())"
    },
    "r": {
     "delete_cmd_postfix": ") ",
     "delete_cmd_prefix": "rm(",
     "library": "var_list.r",
     "varRefreshCmd": "cat(var_dic_list()) "
    }
   },
   "types_to_exclude": [
    "module",
    "function",
    "builtin_function_or_method",
    "instance",
    "_Feature"
   ],
   "window_display": false
  }
 },
 "nbformat": 4,
 "nbformat_minor": 5
}
