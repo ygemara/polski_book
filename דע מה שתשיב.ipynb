{
 "cells": [
  {
   "cell_type": "code",
   "execution_count": 57,
   "id": "17a5b622",
   "metadata": {
    "ExecuteTime": {
     "end_time": "2023-10-05T18:09:20.317053Z",
     "start_time": "2023-10-05T18:09:20.305115Z"
    }
   },
   "outputs": [
    {
     "data": {
      "text/plain": [
       "'C:\\\\Users\\\\ygema\\\\venv\\\\notebooks'"
      ]
     },
     "execution_count": 57,
     "metadata": {},
     "output_type": "execute_result"
    }
   ],
   "source": [
    "import pandas as pd\n",
    "import os\n",
    "import bisect\n",
    "import re\n",
    "\n",
    "os.getcwd()"
   ]
  },
  {
   "cell_type": "code",
   "execution_count": 58,
   "id": "f484946f",
   "metadata": {
    "ExecuteTime": {
     "end_time": "2023-10-05T18:09:20.629074Z",
     "start_time": "2023-10-05T18:09:20.546943Z"
    }
   },
   "outputs": [],
   "source": [
    "f = open(\"/Users/ygema/Downloads/WhatsApp Chat with אופקים חוגגים שנה חדשה.txt\", \"r\", encoding='utf-8')\n",
    "\n",
    "conversation_string = f.readlines()"
   ]
  },
  {
   "cell_type": "code",
   "execution_count": 59,
   "id": "8bb8f403",
   "metadata": {
    "ExecuteTime": {
     "end_time": "2023-10-05T18:09:20.785956Z",
     "start_time": "2023-10-05T18:09:20.777959Z"
    }
   },
   "outputs": [
    {
     "data": {
      "text/plain": [
       "['2/12/20, 2:37\\u202fPM - +972 54-527-7779: <Media omitted>\\n',\n",
       " '2/12/20, 2:37\\u202fPM - +972 54-527-7779: בבקשה\\n',\n",
       " '2/12/20, 2:37\\u202fPM - +972 54-527-7779: איפה אחי.. קניתי סים מקומי\\n',\n",
       " '2/12/20, 2:37\\u202fPM - +972 54-803-0546: חסכת לי ילד עכשיו\\n',\n",
       " '2/12/20, 2:38\\u202fPM - +972 54-527-7779: חחחחחחחח\\n']"
      ]
     },
     "execution_count": 59,
     "metadata": {},
     "output_type": "execute_result"
    }
   ],
   "source": [
    "conversation_string[:5]"
   ]
  },
  {
   "cell_type": "code",
   "execution_count": 60,
   "id": "05e8f3b8",
   "metadata": {
    "ExecuteTime": {
     "end_time": "2023-10-05T18:09:21.053999Z",
     "start_time": "2023-10-05T18:09:21.046165Z"
    }
   },
   "outputs": [],
   "source": [
    "import re\n",
    "\n",
    "def find_end_of_questions(x, start_row):\n",
    "    for idx,item in enumerate(x[start_row:]):\n",
    "        if re.search(r'\\d{1,2}/\\d{1,2}/\\d{2}', item):\n",
    "            return start_row + idx"
   ]
  },
  {
   "cell_type": "code",
   "execution_count": 61,
   "id": "3f21a3bb",
   "metadata": {
    "ExecuteTime": {
     "end_time": "2023-10-05T18:09:21.364965Z",
     "start_time": "2023-10-05T18:09:21.332390Z"
    }
   },
   "outputs": [],
   "source": [
    "question_start_row = [(idx+1) for idx,val in enumerate(conversation_string) if \"שאלות לפרשת\" in val]\n",
    "answer_start_row = [idx+1 for idx,val in enumerate(conversation_string) if \"תשובות לפרשת\" in val or \"תשובות  לפרשת\" in val]"
   ]
  },
  {
   "cell_type": "code",
   "execution_count": 62,
   "id": "a80e2c85",
   "metadata": {
    "ExecuteTime": {
     "end_time": "2023-10-05T18:09:21.610899Z",
     "start_time": "2023-10-05T18:09:21.589799Z"
    }
   },
   "outputs": [],
   "source": [
    "question_end_row = [find_end_of_questions(conversation_string,idx) for idx in question_start_row]\n",
    "answer_end_row = [find_end_of_questions(conversation_string,idx) for idx in answer_start_row]"
   ]
  },
  {
   "cell_type": "code",
   "execution_count": 63,
   "id": "39277cd3",
   "metadata": {
    "ExecuteTime": {
     "end_time": "2023-10-05T18:09:21.896494Z",
     "start_time": "2023-10-05T18:09:21.886511Z"
    }
   },
   "outputs": [],
   "source": [
    "question_bank = []\n",
    "for x in zip(question_start_row,question_end_row):\n",
    "    question_bank.append(conversation_string[(x[0]-1):x[1]])\n",
    "\n",
    "    \n",
    "answer_bank = []\n",
    "for x in zip(answer_start_row,answer_end_row):\n",
    "    answer_bank.append(conversation_string[(x[0]-1):x[1]])"
   ]
  },
  {
   "cell_type": "code",
   "execution_count": 64,
   "id": "3d7b54bb",
   "metadata": {
    "ExecuteTime": {
     "end_time": "2023-10-05T18:09:22.646392Z",
     "start_time": "2023-10-05T18:09:22.641958Z"
    }
   },
   "outputs": [],
   "source": [
    "def clean_up(x):\n",
    "    cleaned_up_list = []\n",
    "    for row in x:\n",
    "        cleaned_up_row = (row.replace(\"\\t\",\"\"))\n",
    "        if cleaned_up_row != '':\n",
    "            cleaned_up_list.append(cleaned_up_row)\n",
    "    return cleaned_up_list"
   ]
  },
  {
   "cell_type": "code",
   "execution_count": 65,
   "id": "53ba3467",
   "metadata": {
    "ExecuteTime": {
     "end_time": "2023-10-05T18:09:23.396941Z",
     "start_time": "2023-10-05T18:09:23.389180Z"
    }
   },
   "outputs": [],
   "source": [
    "def extract_questions(x):\n",
    "    questions_list = [(row.replace(\"\\n\",\"\").replace(\"\\'\",\"\")) for idx, row in enumerate(x)]\n",
    "    first_row = [re.findall(r'(?<=:)(.*?)(?=:)', questions_list[0])[-1].strip()]\n",
    "    first_row.extend(\" \")\n",
    "    first_row.extend([f'\\u202E{row}' for idx, row in enumerate(questions_list[1:]) if re.match(r'[0-9]',row)])\n",
    "    return first_row\n",
    "\n",
    "def extract_answers(x):\n",
    "    answers_list = [(row.replace(\"\\n\",\"\").replace(\"\\'\",\"\")) for idx, row in enumerate(x) if row.startswith(\"תש:\") or \"תשובות לפרשת\" in row]\n",
    "    first_row = [re.findall(r'(?<=:)(.*?)(?=:)', answers_list[0])[-1].strip()]\n",
    "    first_row.extend(\" \")\n",
    "    first_row.extend([f'\\u202E{idx+1}. {row}'.replace(\"\\u202E0.\",\"\").replace(\"תש: \",\"\") for idx, row in enumerate(answers_list[1:])])\n",
    "    answers_list_enumerated = [x.encode('utf-8').decode('utf-8') for x in first_row]\n",
    "    return answers_list_enumerated"
   ]
  },
  {
   "cell_type": "code",
   "execution_count": 66,
   "id": "d08ceed2",
   "metadata": {
    "ExecuteTime": {
     "end_time": "2023-10-05T18:09:24.080445Z",
     "start_time": "2023-10-05T18:09:24.075131Z"
    }
   },
   "outputs": [],
   "source": [
    "cleaned_up_question_bank = [clean_up(question) for question in question_bank]\n",
    "cleaned_up_answer_bank = [clean_up(answer) for answer in answer_bank]"
   ]
  },
  {
   "cell_type": "code",
   "execution_count": 67,
   "id": "34eaa121",
   "metadata": {
    "ExecuteTime": {
     "end_time": "2023-10-05T18:09:24.667611Z",
     "start_time": "2023-10-05T18:09:24.660153Z"
    }
   },
   "outputs": [
    {
     "data": {
      "text/plain": [
       "75"
      ]
     },
     "execution_count": 67,
     "metadata": {},
     "output_type": "execute_result"
    }
   ],
   "source": [
    "len(cleaned_up_answer_bank)"
   ]
  },
  {
   "cell_type": "code",
   "execution_count": 68,
   "id": "6f707d6d",
   "metadata": {
    "ExecuteTime": {
     "end_time": "2023-10-05T18:09:26.340354Z",
     "start_time": "2023-10-05T18:09:26.333573Z"
    }
   },
   "outputs": [],
   "source": [
    "cleaned_up_question_bank_extracted = [\"\\n\".join(extract_questions(question)) for question in cleaned_up_question_bank]\n",
    "cleaned_up_answer_bank_extracted = [\"\\n\".join(extract_answers(answer)) for answer in cleaned_up_answer_bank]\n",
    "\n",
    "# to capture all of 5783\n",
    "cleaned_up_question_bank_extracted = cleaned_up_question_bank_extracted[37:]\n",
    "cleaned_up_answer_bank_extracted = cleaned_up_answer_bank_extracted[30:]"
   ]
  },
  {
   "cell_type": "code",
   "execution_count": 69,
   "id": "ba46600a",
   "metadata": {
    "ExecuteTime": {
     "end_time": "2023-10-05T18:09:26.923572Z",
     "start_time": "2023-10-05T18:09:26.918487Z"
    }
   },
   "outputs": [],
   "source": [
    "###################"
   ]
  },
  {
   "cell_type": "code",
   "execution_count": 70,
   "id": "0a3c6930",
   "metadata": {
    "ExecuteTime": {
     "end_time": "2023-10-05T18:09:27.597852Z",
     "start_time": "2023-10-05T18:09:27.593351Z"
    }
   },
   "outputs": [
    {
     "data": {
      "text/plain": [
       "'שאלות לפרשת האזינו\\n \\n\\u202e1. משה וישעיה, שני הפכים. \\n\\u202e2. מהם שלושת הסיבובים שסיבב הקב\"ה? \\n\\u202e3. קללה שהיא סוג של ברכה \\n\\u202e4. קללה שמתפרשת ע\"י מצוה \\n\\u202e5. ביטוי למשפט, המופיע בפיוט יום ליבשה. \\n\\u202e6. ביטוי לרפיון, חולשה \\n\\u202e7. דמות בספר בראשית המלמדת , שאין דבר שאין בו מה ללמוד'"
      ]
     },
     "execution_count": 70,
     "metadata": {},
     "output_type": "execute_result"
    }
   ],
   "source": [
    "cleaned_up_question_bank_extracted[-1]"
   ]
  },
  {
   "cell_type": "code",
   "execution_count": 71,
   "id": "212636af",
   "metadata": {
    "ExecuteTime": {
     "end_time": "2023-10-05T18:09:29.180258Z",
     "start_time": "2023-10-05T18:09:29.169415Z"
    }
   },
   "outputs": [
    {
     "name": "stdout",
     "output_type": "stream",
     "text": [
      "‮9. מה קרה בשנת 1996 (מלבד הניצחון של ביבי🤣 ) ומהיכן יודעים זאת? \n",
      "‮8. שני דברים שארכו 38 שנים. \n",
      "‮1. היכן המספר 24 מופיע בפרשה ? \n",
      "‮10. מי היא אבנו, של השבט אליו פנה המלך לבקש עצתו ?\n",
      "‮2. רש\"י בשם מדרש רבה אומר שנח נשא את נעמה אחות תובל קין. אם הפסוקים הם כפשוטם- היא נולדה לפני ששת נולד. כלומר היתה גדולה מבעלה בלפחות 900 שנה (אלא אם כן נאמר שהפסוקים לא כפשוטם והיא נולדה ללמך אחרי מאות שנים) \n",
      "‮6. למך- שנפטר כשהיה בן 777.\n",
      "‮3. הנושא אשה ולא העמיד ילדים 10 שנים חייב לשאת אשה אחרת (יבמות סד.)\n",
      "‮1. 11. יצחק, מואב, עמון, 8 בני מלכה.\n",
      "‮6. אסתר שמלכה על 127 מדינות.\n",
      "‮1. שם בן נח, שנפטר כאשר יעקב היה בן 50, בתחילת הפרשה כאשר רבקה הלכה לדרוש את ה נאמר ברש\"י שהלכה לבית מדרשו של שם. אך בסוף הפרשה כאשר רש\"י מסביר שיעקב למד תורה י\"ד שנים הוא אומר שיעקב נטמן בבית עבר. \n",
      "‮8. כתוב במדרש שהיתה בתו של שם. שם נפטר 36 שנים בערך לפני שנולד יהודה. אלא אם כן נאמר שלא היתה בתו ממש אלא נכדתו וכד.\n",
      "‮3. רדו, כמנין 210.\n",
      "‮4.  יעקב אבינו נענש על כך שאמר לפרעה \"מעט ורעים וכו ועל כך ירדו לו 33 שנים כמנין המילים בפסוקים (מדרש רבה) שהיה אמור לחיות 180 שנה כאביו וחי 147. ישנה עוד תשובה  על פי בעל הטורים שאומר שיעקב נענש על כך שבגלל קללתו מתה רחל , ואמר שמי שגנב את התרפים לא יחיה , יחיה בגימטריה 33.\n",
      "‮1. יעקב אבינו נפטר בגיל 147, ישמעאל דודו, לוי בנו ועמרם נינו נפטרו בגיל 137.\n",
      "‮5. 432, רש\"י על \"והעומר עשירית האיפה\" \n",
      "‮1. 24 ראשי איברים (רש\"י כא,כו)\n",
      "‮10. הגמ במגילה יב: אומרת \" ראו מה עשה לי יהודי ומה שילם לי ימיני, מה עשה לי יהודי   דלא קטליה דוד לשמעי (דנולד ממנו מרדכי) וכו ומה שילם לי ימיני דלא קטליה שאול לאגג (דנולד ממנו המן)\n",
      "‮11. בגמ במגילה מסופר שאחשורוש פנה לבני שבט יששכר \"לחכמים יודעי העיתים\" בשאלה מה לעשות במלכה ושתי. והם פחדו לענות, והתחמקו ממנו. האבן של שבט יששכר היתה ספיר.\n",
      "‮3. בפרשתנו מנין הלווים מגיל 30. בפרשת בהעלותך נמנו הלווים מגיל 25. ולמדו מכך חז\"ל שתלמיד שלא ראה סימן יפה במשנתו ה שנים שוב אינו רואה.\n",
      "‮1. מנין המצוות על פי ספר החינוך - 74\n"
     ]
    }
   ],
   "source": [
    "# numbers are coming out backwards.\n",
    "# This searches for them to change manually \n",
    "# run for answers and for questions\n",
    "\n",
    "for q in cleaned_up_question_bank_extracted:\n",
    "    for line in ((q.split(\"\\n\"))):\n",
    "        if re.search(\"\\d{2,}\",line):\n",
    "            print(line)\n",
    "            \n",
    "for a in cleaned_up_answer_bank_extracted:\n",
    "    for line in ((a.split(\"\\n\"))):\n",
    "        if re.search(\"\\d{2,}\",line):\n",
    "            print(line)"
   ]
  },
  {
   "cell_type": "code",
   "execution_count": 72,
   "id": "7364cdb7",
   "metadata": {
    "ExecuteTime": {
     "end_time": "2023-10-05T18:09:35.735224Z",
     "start_time": "2023-10-05T18:09:35.730654Z"
    }
   },
   "outputs": [
    {
     "name": "stdout",
     "output_type": "stream",
     "text": [
      "Hello 321 World 654 987\n"
     ]
    }
   ],
   "source": [
    "import re\n",
    "\n",
    "def flip_numbers(input_string):\n",
    "    # Find all sequences of digits in the input string\n",
    "    numbers = re.findall(r'\\d+', input_string)\n",
    "    \n",
    "    # Replace each number with its reversed version in the input string\n",
    "    for number in numbers:\n",
    "        reversed_number = number[::-1]  # Reverse the number\n",
    "        input_string = input_string.replace(number, reversed_number)  # Replace all occurrences\n",
    "    \n",
    "    return input_string\n",
    "\n",
    "# Example usage\n",
    "input_string = \"Hello 123 World 456 789\"\n",
    "flipped_string = flip_numbers(input_string)\n",
    "print(flipped_string)"
   ]
  },
  {
   "cell_type": "code",
   "execution_count": null,
   "id": "b5534d1a",
   "metadata": {},
   "outputs": [],
   "source": []
  },
  {
   "cell_type": "code",
   "execution_count": null,
   "id": "87172cf7",
   "metadata": {},
   "outputs": [],
   "source": []
  },
  {
   "cell_type": "code",
   "execution_count": null,
   "id": "4ede9b3a",
   "metadata": {},
   "outputs": [],
   "source": []
  },
  {
   "cell_type": "code",
   "execution_count": 73,
   "id": "c4f14e22",
   "metadata": {
    "ExecuteTime": {
     "end_time": "2023-10-05T18:09:38.292532Z",
     "start_time": "2023-10-05T18:09:38.289094Z"
    }
   },
   "outputs": [],
   "source": [
    "####################"
   ]
  },
  {
   "cell_type": "code",
   "execution_count": 75,
   "id": "6755688a",
   "metadata": {
    "ExecuteTime": {
     "end_time": "2023-10-05T18:09:52.666480Z",
     "start_time": "2023-10-05T18:09:52.520011Z"
    }
   },
   "outputs": [],
   "source": [
    "from docx import Document\n",
    "from docx.shared import Pt\n",
    "# Sample list of lists\n",
    "\n",
    "\n",
    "# Create a new Word document\n",
    "doc = Document()\n",
    "\n",
    "# Iterate through the list of lists and add each list to a separate page\n",
    "for i in range(len(cleaned_up_question_bank_extracted)):\n",
    "    # Create a new page (section break)\n",
    "    paragraph = doc.add_paragraph()\n",
    "    \n",
    "    bold_run = paragraph.add_run((cleaned_up_question_bank_extracted[i]).split(\"\\n\")[0])\n",
    "    bold_run.bold = True\n",
    "    bold_run.underline = True\n",
    "    bold_run.font.size = Pt(20)\n",
    "    \n",
    "    rest_paragraph_run = paragraph.add_run('\\n'.join((cleaned_up_question_bank_extracted[i]).split(\"\\n\")[1:]))\n",
    "    font = rest_paragraph_run.font\n",
    "    font.size = Pt(20)\n",
    "    \n",
    "    doc.add_paragraph().add_run('\\n\\n\\n')\n",
    "    \n",
    "    answers_ref_run = doc.add_paragraph().add_run(f'(התשובות בעמוד {i+49})')\n",
    "    font = answers_ref_run.font\n",
    "    font.size = Pt(20)\n",
    "    \n",
    "    \n",
    "    doc.add_section()\n",
    "\n",
    "for i in range(len(cleaned_up_answer_bank_extracted)):\n",
    "    # Create a new page (section break)\n",
    "    paragraph = doc.add_paragraph()\n",
    "    \n",
    "    bold_run = paragraph.add_run((cleaned_up_answer_bank_extracted[i]).split(\"\\n\")[0])\n",
    "    bold_run.bold = True\n",
    "    bold_run.underline = True\n",
    "    bold_run.font.size = Pt(20)\n",
    "    \n",
    "    ans_paragraph_run = paragraph.add_run('\\n'.join((cleaned_up_answer_bank_extracted[i]).split(\"\\n\")[1:]))\n",
    "    ans_paragraph_run.font.size = Pt(20)\n",
    "    doc.add_section()\n",
    "\n",
    "# Save the Word document\n",
    "doc.save(\"output.docx\")"
   ]
  },
  {
   "cell_type": "code",
   "execution_count": null,
   "id": "2dc678fb",
   "metadata": {},
   "outputs": [],
   "source": []
  },
  {
   "cell_type": "code",
   "execution_count": null,
   "id": "47d6a1b0",
   "metadata": {},
   "outputs": [],
   "source": []
  },
  {
   "cell_type": "code",
   "execution_count": 31,
   "id": "d5e147f0",
   "metadata": {
    "ExecuteTime": {
     "end_time": "2023-10-05T15:29:08.655990Z",
     "start_time": "2023-10-05T15:29:08.565502Z"
    }
   },
   "outputs": [],
   "source": [
    "from docx import Document\n",
    "from docx.shared import Pt\n",
    "# Sample list of lists\n",
    "\n",
    "\n",
    "# Create a new Word document\n",
    "doc = Document()\n",
    "\n",
    "# Iterate through the list of lists and add each list to a separate page\n",
    "for i in range(len(cleaned_up_question_bank_extracted)):\n",
    "    # Create a new page (section break)\n",
    "    paragraph = doc.add_paragraph()\n",
    "    \n",
    "    bold_run = paragraph.add_run((cleaned_up_question_bank_extracted[i]).split(\"\\n\")[0])\n",
    "    bold_run.bold = True\n",
    "    bold_run.underline = True\n",
    "    bold_run.font.size = Pt(20)\n",
    "    \n",
    "    rest_paragraph_run = paragraph.add_run('\\n'.join((cleaned_up_question_bank_extracted[i]).split(\"\\n\")[1:]))\n",
    "    font = rest_paragraph_run.font\n",
    "    font.size = Pt(20)\n",
    "    \n",
    "    doc.add_paragraph().add_run('\\n\\n\\n')\n",
    "    \n",
    "    answers_ref_run = doc.add_paragraph().add_run(f'(התשובות בעמוד {i+49})')\n",
    "    font = answers_ref_run.font\n",
    "    font.size = Pt(20)\n",
    "    \n",
    "    \n",
    "    doc.add_section()\n",
    "\n",
    "for i in range(len(cleaned_up_answer_bank_extracted)):\n",
    "    # Create a new page (section break)\n",
    "    paragraph = doc.add_paragraph()\n",
    "    \n",
    "    bold_run = paragraph.add_run((cleaned_up_answer_bank_extracted[i]).split(\"\\n\")[0])\n",
    "    bold_run.bold = True\n",
    "    bold_run.underline = True\n",
    "    bold_run.font.size = Pt(20)\n",
    "    \n",
    "    ans_paragraph_run = paragraph.add_run('\\n'.join((cleaned_up_answer_bank_extracted[i]).split(\"\\n\")[1:]))\n",
    "    ans_paragraph_run.font.size = Pt(20)\n",
    "    doc.add_section()\n",
    "\n",
    "# Save the Word document\n",
    "doc.save(\"output.docx\")"
   ]
  },
  {
   "cell_type": "code",
   "execution_count": 29,
   "id": "943000f4",
   "metadata": {
    "ExecuteTime": {
     "end_time": "2023-10-05T15:10:23.873569Z",
     "start_time": "2023-10-05T15:10:23.863033Z"
    }
   },
   "outputs": [
    {
     "data": {
      "text/plain": [
       "['שאלות לפרשת בראשית\\n \\n\\u202e1.  (כיצד קשור המן לפרשה? (שני אופנים\\n\\u202e2. מי נשא (על פי המדרש) אשה זקנה ממנו בהרבה? \\n\\u202e3. מי עשוי כאוצר של חיטים? \\n\\u202e4. מי ענתה \"מה מועיל נר בצהריים\" ? \\n\\u202e5. איזו אות נאמרה אחרונה מכל האותיות ? מדוע? \\n\\u202e6. מה משותף לאדם, ירד ומתושלח? \\n\\u202e7. למי יש רק ספרה אחת בשנות חייו?\\n\\u202e8. היכן ספרד מוזכרת בפרשה? \\n\\u202e8. את שניהם אמר אדם הראשון. במהלך החיים נאמרים על פי הסדר, אך לא כתובים כסדר.',\n",
       " 'שאלות לפרשת נח\\n \\n\\u202e1. פיוט מזמירות שבת\\n\\u202e2. אלו שמונה אותיות מיותרות לכאורה יש בפרשה, ומדוע? \\n\\u202e3. עיר ומלכות, שכינויה בקינות רמוז בפרשה.\\n\\u202e4. שבעה הם, והשביעי מתוכם התחדש בפרשתנו. \\n\\u202e5. מי בפרשה עשה קל וחומר? \\n\\u202e6. איזה כלל בהלכות נימוסים ודרך ארץ נלמד מהפרשה ? \\n\\u202e7. שנים בעלי שם אחד נשלחו, האחד בפרשתנו, השני, נשלח לעיר מפרשתנו.\\n\\u202e8. מתי רבים נכתבו בלשון יחיד, ומדוע? ',\n",
       " 'שאלות לפרשת לך לך\\n \\n\\u202e1. מאורע מהפרשה, מוזכר בפיוט הנאמר פעם בשנה\\n\\u202e2. מי פחד מהפליט? \\n\\u202e3. איזו הלכה למדים מנישואי אברהם והגר? \\n\\u202e4. על מי נאמר שם התואר לפני שם העצם? \\n\\u202e5. צדיק א זיכה את צאצאיו במצוה.  צדיק שיצא מזרעו, זיכה את צאצאיו בפרט באותה מצוה. \\n\\u202e6. נס שנעשה לרשע \\n\\u202e7. מה רבותינו למדו בענין הזכרת אנשי סדום? \\n\\u202e8. זה שנוספה לו  מהאשה, הוסיף על מה שנצטווה בעלה.',\n",
       " 'שאלות לפרשת וירא\\n \\n\\u202e1. כמה נכדים מוזכרים שנולדו להרן בפרשה? \\n\\u202e2. מה היה שמה של זו שלקתה, מידה כנגד מידה? \\n\\u202e3. מהם המילים, שבזכותם זכה אברהם להיות אחד מג ענווים? \\n\\u202e4. האחרון מארבעה, שלא יזכו לטובה. \\n\\u202e5. הכינוי שלו זכו הנערים, בעקבות ציווי אברהם \\n\\u202e6. ספר שנקרא על שם מאורע מרכזי בפרשה. \\n\\u202e7. מה השכר שקבלה הבכירה, ומה קבלה הצעירה. \\n\\u202e8. לאשתו היה דרך.  אבל לסבתא לא היה דרך.  \\n\\u202e9. מה קרה בשנת 1996 (מלבד הניצחון של ביבי🤣 ) ומהיכן יודעים זאת? ',\n",
       " 'שאלות לפרשת חיי שרה\\n \\n\\u202e1. מי בפרשה לא למד מסכת אבות, ומי דווקא כן? \\n\\u202e2. איזה פיוט לשבת נאמר לראשונה בפרשתנו? \\n\\u202e3. איזה כלל נלמד מהפרשה הכפולה בפרשתנו? \\n\\u202e4. שתי בנות, כל אחת שלוש אותיות, האחת בשמה והאחת ברמיזה \\n\\u202e5. שתי דמויות עם מכנה משותף בהפטרת חיי שרה והפטרת וירא \\n\\u202e6. מי זכתה לשכר כמספר שנות חיי שרה? \\n\\u202e7. למה זוכה מי שמתעטפת בצעיף? \\n\\u202e8. שני דברים שארכו 38 שנים. ']"
      ]
     },
     "execution_count": 29,
     "metadata": {},
     "output_type": "execute_result"
    }
   ],
   "source": [
    "cleaned_up_question_bank_extracted[:5]"
   ]
  },
  {
   "cell_type": "code",
   "execution_count": null,
   "id": "d17456fd",
   "metadata": {},
   "outputs": [],
   "source": []
  },
  {
   "cell_type": "code",
   "execution_count": null,
   "id": "02edc16b",
   "metadata": {},
   "outputs": [],
   "source": []
  },
  {
   "cell_type": "code",
   "execution_count": 698,
   "id": "316dcd6b",
   "metadata": {
    "ExecuteTime": {
     "end_time": "2023-09-29T14:56:59.235545Z",
     "start_time": "2023-09-29T14:56:59.191994Z"
    }
   },
   "outputs": [
    {
     "ename": "AttributeError",
     "evalue": "'NoneType' object has no attribute 'pt'",
     "output_type": "error",
     "traceback": [
      "\u001b[1;31m---------------------------------------------------------------------------\u001b[0m",
      "\u001b[1;31mAttributeError\u001b[0m                            Traceback (most recent call last)",
      "Cell \u001b[1;32mIn[698], line 20\u001b[0m\n\u001b[0;32m     17\u001b[0m bottom_content_length \u001b[38;5;241m=\u001b[39m \u001b[38;5;28mlen\u001b[39m(bottom_content)\n\u001b[0;32m     19\u001b[0m \u001b[38;5;66;03m# Get the font size of the paragraph (assuming uniform font size)\u001b[39;00m\n\u001b[1;32m---> 20\u001b[0m font_size_pts \u001b[38;5;241m=\u001b[39m \u001b[43mtop_paragraph\u001b[49m\u001b[38;5;241;43m.\u001b[39;49m\u001b[43mstyle\u001b[49m\u001b[38;5;241;43m.\u001b[39;49m\u001b[43mfont\u001b[49m\u001b[38;5;241;43m.\u001b[39;49m\u001b[43msize\u001b[49m\u001b[38;5;241;43m.\u001b[39;49m\u001b[43mpt\u001b[49m\n\u001b[0;32m     22\u001b[0m \u001b[38;5;66;03m# Calculate the spacing required to align the bottom content with the bottom of the page\u001b[39;00m\n\u001b[0;32m     23\u001b[0m spacing_for_bottom \u001b[38;5;241m=\u001b[39m (top_content_length \u001b[38;5;241m-\u001b[39m bottom_content_length) \u001b[38;5;241m*\u001b[39m (font_size_pts \u001b[38;5;241m/\u001b[39m \u001b[38;5;241m2\u001b[39m)\n",
      "\u001b[1;31mAttributeError\u001b[0m: 'NoneType' object has no attribute 'pt'"
     ]
    }
   ],
   "source": [
    "from docx import Document\n",
    "from docx.shared import Inches, Pt\n",
    "\n",
    "# Create a new Word document\n",
    "doc = Document()\n",
    "\n",
    "# Content for the top part of the page\n",
    "top_content = \"This is content near the top of the page.\"\n",
    "top_paragraph = doc.add_paragraph(top_content)\n",
    "\n",
    "# Content for the bottom part of the page\n",
    "bottom_content = \"This is content near the bottom of the page.\"\n",
    "bottom_paragraph = doc.add_paragraph(bottom_content)\n",
    "\n",
    "# Calculate the length of the top and bottom content\n",
    "top_content_length = len(top_content)\n",
    "bottom_content_length = len(bottom_content)\n",
    "\n",
    "# Get the font size of the paragraph (assuming uniform font size)\n",
    "font_size_pts = top_paragraph.style.font.size.pt\n",
    "\n",
    "# Calculate the spacing required to align the bottom content with the bottom of the page\n",
    "spacing_for_bottom = (top_content_length - bottom_content_length) * (font_size_pts / 2)\n",
    "\n",
    "# Set spacing before the bottom paragraph to move it up the page\n",
    "bottom_paragraph_format = bottom_paragraph.paragraph_format\n",
    "bottom_paragraph_format.space_before = Pt(spacing_for_bottom)\n",
    "\n",
    "# Save the Word document\n",
    "doc.save(\"output.docx\")"
   ]
  }
 ],
 "metadata": {
  "kernelspec": {
   "display_name": "Python 3 (ipykernel)",
   "language": "python",
   "name": "python3"
  },
  "language_info": {
   "codemirror_mode": {
    "name": "ipython",
    "version": 3
   },
   "file_extension": ".py",
   "mimetype": "text/x-python",
   "name": "python",
   "nbconvert_exporter": "python",
   "pygments_lexer": "ipython3",
   "version": "3.11.1"
  },
  "toc": {
   "base_numbering": 1,
   "nav_menu": {},
   "number_sections": true,
   "sideBar": true,
   "skip_h1_title": false,
   "title_cell": "Table of Contents",
   "title_sidebar": "Contents",
   "toc_cell": false,
   "toc_position": {},
   "toc_section_display": true,
   "toc_window_display": false
  },
  "varInspector": {
   "cols": {
    "lenName": 16,
    "lenType": 16,
    "lenVar": 40
   },
   "kernels_config": {
    "python": {
     "delete_cmd_postfix": "",
     "delete_cmd_prefix": "del ",
     "library": "var_list.py",
     "varRefreshCmd": "print(var_dic_list())"
    },
    "r": {
     "delete_cmd_postfix": ") ",
     "delete_cmd_prefix": "rm(",
     "library": "var_list.r",
     "varRefreshCmd": "cat(var_dic_list()) "
    }
   },
   "types_to_exclude": [
    "module",
    "function",
    "builtin_function_or_method",
    "instance",
    "_Feature"
   ],
   "window_display": false
  }
 },
 "nbformat": 4,
 "nbformat_minor": 5
}
